{
 "cells": [
  {
   "cell_type": "markdown",
   "id": "49d1935d-b25d-4a2a-9eb2-c5a7b86829a3",
   "metadata": {},
   "source": [
    "## Computation of the Partition Function \\( Z($\\beta$) \\)\n",
    "\n",
    "For a system with a finite number of single-particle energy levels and a finite number of **non-interacting** particles \\(N\\), the **partition function** depends on the type of statistics:\n",
    "\n",
    "- **Maxwell-Boltzmann (MB) Statistics** (Classical)\n",
    "- **Fermi-Dirac (FD) Statistics** (For fermions, obeying the Pauli exclusion principle)\n",
    "- **Bose-Einstein (BE) Statistics** (For bosons, allowing multiple occupancy)\n",
    "\n",
    "### 1. Partition Function \\( Z($\\beta$) \\)\n",
    "#### **Maxwell-Boltzmann (MB) Statistics:**\n",
    "For distinguishable classical particles:\n",
    "$$\n",
    "Z_{MB} = \\frac{\\left(\\sum e^{-\\beta E_i}\\right)^N}{N!}\n",
    "$$\n",
    "where:\n",
    "- $ E_i $ are the energy levels.\n",
    "- $ \\beta = \\frac{1}{k_B T} $ is the inverse temperature.\n",
    "- The **factorial term** accounts for particle indistinguishability.\n",
    "\n",
    "#### **Fermi-Dirac (FD) Statistics:**\n",
    "For fermions (electrons, protons, etc.) that obey the Pauli exclusion principle:\n",
    "$$\n",
    "Z_{FD} = \\prod_{i} \\left( 1 + e^{-\\beta E_i} \\right)\n",
    "$$\n",
    "where each state can have at most one particle.\n",
    "\n",
    "#### **Bose-Einstein (BE) Statistics:**\n",
    "For bosons (photons, phonons, etc.) that can occupy the same state:\n",
    "$$\n",
    "Z_{BE} = \\prod_{i} \\frac{1}{1 - e^{-\\beta E_i}}\n",
    "$$\n",
    "This diverges when \\( E_i = 0 \\), leading to Bose-Einstein condensation in some cases.\n",
    "\n",
    "---\n",
    "\n",
    "### 2. Average Energy $ \\langle E \\rangle $\n",
    "The mean energy is calculated as:\n",
    "$$\n",
    "\\langle E \\rangle = \\sum_i E_i P_i\n",
    "$$\n",
    "where $ P_i $ is the probability of occupation for each state:\n",
    "\n",
    "- **MB:** $ P_i = \\frac{e^{-\\beta E_i}}{Z} $\n",
    "- **FD:** $ P_i = \\frac{e^{-\\beta E_i}}{1 + e^{-\\beta E_i}} $\n",
    "- **BE:** $ P_i = \\frac{e^{-\\beta E_i}}{1 - e^{-\\beta E_i}} $ (avoiding singularities)\n",
    "\n",
    "---\n",
    "\n",
    "### 3. Specific Heat $ C_v $\n",
    "The heat capacity is given by:\n",
    "$$\n",
    "C_v = \\frac{d \\langle E \\rangle}{dT} = \\beta^2 \\left( \\langle E^2 \\rangle - \\langle E \\rangle^2 \\right)\n",
    "$$\n",
    "where $ \\langle E^2 \\rangle $ is calculated as:\n",
    "$$\n",
    "\\langle E^2 \\rangle = \\sum_i E_i^2 P_i\n",
    "$$\n",
    "This quantity helps in understanding phase transitions and thermal properties of the system.\n",
    "\n",
    "---\n",
    "\n",
    "### 4. Temperature Dependence\n",
    "- **At high temperatures**: MB, FD, and BE statistics converge to the classical Maxwell-Boltzmann distribution.\n",
    "- **At low temperatures**:\n",
    "  - FD statistics lead to **Fermi energy** behavior.\n",
    "  - BE statistics can lead to **Bose-Einstein condensation**.\n",
    "\n",
    "---\n",
    "\n",
    "### 5. Implementation in Python\n",
    "The following Python functions compute:\n",
    "- The **partition function** $ Z(\\beta) $\n",
    "- The **average energy** $ \\langle E \\rangle $\n",
    "- The **specific heat** $ C_v $\n",
    "\n",
    "See the accompanying Python code for implementation. 🚀\n"
   ]
  },
  {
   "cell_type": "code",
   "execution_count": 1,
   "id": "816bef92-6085-479f-8748-6513a0c8f314",
   "metadata": {},
   "outputs": [
    {
     "name": "stdout",
     "output_type": "stream",
     "text": [
      "Statistics: MB, Partition Function: 0.9355, Average Energy: 0.2689, Specific Heat: 0.1966\n",
      "Statistics: FD, Partition Function: 2.7358, Average Energy: 0.2689, Specific Heat: 0.1966\n",
      "Statistics: BE, Partition Function: 15819767066.1906, Average Energy: 0.5820, Specific Heat: 0.2433\n"
     ]
    }
   ],
   "source": [
    "import numpy as np\n",
    "import math  \n",
    "\n",
    "def partition_function(energies, beta, N, stat, eps=1e-10):\n",
    "    \"\"\"Compute the partition function for different statistics.\"\"\"\n",
    "    energies = np.array(energies)\n",
    "    \n",
    "    if stat == 'MB':  # Maxwell-Boltzmann\n",
    "        Z = (np.sum(np.exp(-beta * energies)))**N / math.factorial(N)\n",
    "    elif stat == 'FD':  # Fermi-Dirac\n",
    "        Z = np.prod(1 + np.exp(-beta * energies))  # FD partition function\n",
    "    elif stat == 'BE':  # Bose-Einstein\n",
    "        Z = np.prod(1 / (1 - np.exp(-beta * energies) + eps))  # Avoid division by zero\n",
    "    else:\n",
    "        raise ValueError(\"Unknown statistics. Use 'MB', 'FD', or 'BE'\")\n",
    "    \n",
    "    return Z\n",
    "\n",
    "def average_energy(energies, beta, Z, stat, eps=1e-10):\n",
    "    \"\"\"Compute the average energy ⟨E⟩.\"\"\"\n",
    "    energies = np.array(energies)\n",
    "    \n",
    "    if stat == 'MB':\n",
    "        probabilities = np.exp(-beta * energies) / np.sum(np.exp(-beta * energies))\n",
    "    elif stat == 'FD':\n",
    "        probabilities = np.exp(-beta * energies) / (1 + np.exp(-beta * energies))\n",
    "    elif stat == 'BE':\n",
    "        probabilities = np.exp(-beta * energies) / (1 - np.exp(-beta * energies) + eps)  # Avoid zero denominator\n",
    "    else:\n",
    "        raise ValueError(\"Unknown statistics. Use 'MB', 'FD', or 'BE'\")\n",
    "    \n",
    "    return np.sum(energies * probabilities)\n",
    "\n",
    "def specific_heat(energies, beta, Z, stat, eps=1e-10):\n",
    "    \"\"\"Compute specific heat C_v = d⟨E⟩/dT.\"\"\"\n",
    "    E_avg = average_energy(energies, beta, Z, stat, eps)\n",
    "    \n",
    "    # Compute ⟨E²⟩ for fluctuation calculations\n",
    "    energies = np.array(energies)\n",
    "    if stat == 'MB':\n",
    "        probabilities = np.exp(-beta * energies) / np.sum(np.exp(-beta * energies))\n",
    "    elif stat == 'FD':\n",
    "        probabilities = np.exp(-beta * energies) / (1 + np.exp(-beta * energies))\n",
    "    elif stat == 'BE':\n",
    "        probabilities = np.exp(-beta * energies) / (1 - np.exp(-beta * energies) + eps)  # Avoid zero denominator\n",
    "    \n",
    "    E2_avg = np.sum((energies**2) * probabilities)\n",
    "    \n",
    "    # Specific heat formula: C_v = β² (⟨E²⟩ - ⟨E⟩²)\n",
    "    return beta**2 * (E2_avg - E_avg**2)\n",
    "\n",
    "# Example usage\n",
    "energies = [0, 1]  # Energy levels in units of k_B T\n",
    "beta = 1.0  # Inverse temperature\n",
    "N = 2  # Number of particles\n",
    "\n",
    "for stat in ['MB', 'FD', 'BE']:\n",
    "    Z = partition_function(energies, beta, N, stat)\n",
    "    E_avg = average_energy(energies, beta, Z, stat)\n",
    "    Cv = specific_heat(energies, beta, Z, stat)\n",
    "    print(f\"Statistics: {stat}, Partition Function: {Z:.4f}, Average Energy: {E_avg:.4f}, Specific Heat: {Cv:.4f}\")\n"
   ]
  },
  {
   "cell_type": "code",
   "execution_count": 2,
   "id": "2eac13ac-89bc-4d5e-9111-6df0648253e4",
   "metadata": {},
   "outputs": [
    {
     "name": "stdout",
     "output_type": "stream",
     "text": [
      "0.9355470827897486\n",
      "0.2689414213699951\n",
      "0.19661193324148185\n"
     ]
    }
   ],
   "source": [
    "import numpy as np\n",
    "from math import factorial\n",
    "# Example usage\n",
    "energies = [0, 1]  # Energy levels in units of k_B T\n",
    "beta = 1.0  # Inverse temperature\n",
    "N = 2  # Number of particles\n",
    "\n",
    "energies = np.array(energies)\n",
    "#Z = (np.sum(np.exp(-beta * energies)))**N / math.factorial(N);Z\n",
    "\n",
    "\n",
    "Z = np.sum(np.exp(-beta*energies))**N / factorial(N); print(Z)\n",
    "\n",
    "probabilities = np.exp(-beta*energies)/np.sum(np.exp(-beta*energies))\n",
    "avg_energy = np.sum(energies * probabilities); print(avg_energy)\n",
    "\n",
    "E_avg = avg_energy\n",
    "E2_avg = np.sum(energies**2 * probabilities); E2_avg\n",
    "sp_heat = beta**2 * (E2_avg - E_avg**2);print(sp_heat)\n"
   ]
  },
  {
   "cell_type": "code",
   "execution_count": 3,
   "id": "937c9626-76f9-4ce8-848c-0d3486859981",
   "metadata": {},
   "outputs": [
    {
     "name": "stdout",
     "output_type": "stream",
     "text": [
      "0.9355470827897486\n"
     ]
    }
   ],
   "source": [
    "energies = np.array([0, 1])\n",
    "Z = np.sum(np.exp(-beta*energies))**N/factorial(N); print(Z)"
   ]
  },
  {
   "cell_type": "code",
   "execution_count": 4,
   "id": "765a8fcc-d7e0-4ff4-be83-837b469781f5",
   "metadata": {},
   "outputs": [
    {
     "data": {
      "text/plain": [
       "np.float64(0.2689414213699951)"
      ]
     },
     "execution_count": 4,
     "metadata": {},
     "output_type": "execute_result"
    }
   ],
   "source": [
    "probabilities = np.exp(-beta*energies)/np.sum(np.exp(-beta*energies))\n",
    "avg_energy = np.sum(energies*probabilities);avg_energy"
   ]
  },
  {
   "cell_type": "code",
   "execution_count": 5,
   "id": "8e061fa9-aaba-4610-9c92-541fe89facd7",
   "metadata": {},
   "outputs": [
    {
     "data": {
      "text/plain": [
       "np.float64(0.1966)"
      ]
     },
     "execution_count": 5,
     "metadata": {},
     "output_type": "execute_result"
    }
   ],
   "source": [
    "E2_avg = np.sum(energies**2 * probabilities)\n",
    "E1_avg = avg_energy\n",
    "sp_heat = round(beta**2 *(E2_avg - E1_avg**2), 4);sp_heat"
   ]
  }
 ],
 "metadata": {
  "kernelspec": {
   "display_name": "Python 3 (ipykernel)",
   "language": "python",
   "name": "python3"
  },
  "language_info": {
   "codemirror_mode": {
    "name": "ipython",
    "version": 3
   },
   "file_extension": ".py",
   "mimetype": "text/x-python",
   "name": "python",
   "nbconvert_exporter": "python",
   "pygments_lexer": "ipython3",
   "version": "3.12.7"
  }
 },
 "nbformat": 4,
 "nbformat_minor": 5
}
